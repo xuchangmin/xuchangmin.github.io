{
 "cells": [
  {
   "cell_type": "markdown",
   "metadata": {},
   "source": [
    "# 20. Factorial sum"
   ]
  },
  {
   "cell_type": "code",
   "execution_count": 1,
   "metadata": {},
   "outputs": [
    {
     "name": "stdout",
     "output_type": "stream",
     "text": [
      "648\n"
     ]
    }
   ],
   "source": [
    "f = 1\n",
    "for i in range(2, 101):\n",
    "    f *= i\n",
    "    \n",
    "\n",
    "sumNums = 0\n",
    "while f > 0:\n",
    "    sumNums += f % 10\n",
    "    f //= 10 \n",
    "\n",
    "print(sumNums)"
   ]
  },
  {
   "cell_type": "code",
   "execution_count": null,
   "metadata": {},
   "outputs": [],
   "source": [
    "# Now with list comprehension\n",
    "def factorial(n):\n",
    "    if n == 0:\n",
    "        return 1\n",
    "    else:\n",
    "        return n * factorial(n - 1)\n",
    "\n",
    "\n",
    "def sum_digits(n):\n",
    "    return sum([int(i) for i in str(n)])\n",
    "\n",
    "\n",
    "sumNums = sum_digits(factorial(100))\n",
    "print(sumNums)"
   ]
  },
  {
   "cell_type": "code",
   "execution_count": 8,
   "metadata": {},
   "outputs": [
    {
     "data": {
      "text/plain": [
       "['3', '1', '4', '1', '5', '9', '2', '6']"
      ]
     },
     "execution_count": 8,
     "metadata": {},
     "output_type": "execute_result"
    }
   ],
   "source": [
    "# List comprehensions examples\n",
    "\n",
    "[n*n for n in range(1,11)]\n",
    "[c for c in '3.1415926' if c.isdigit()]"
   ]
  },
  {
   "cell_type": "code",
   "execution_count": null,
   "metadata": {},
   "outputs": [],
   "source": [
    "import functools\n",
    "\n",
    "# Defining sum with reduce function\n",
    "# y is iterated sum is assigned to x\n",
    "def mysum\n",
    "    return functools.reduce(lambda x, y: x+y, list_)"
   ]
  }
 ],
 "metadata": {
  "kernelspec": {
   "display_name": "Python 3",
   "language": "python",
   "name": "python3"
  },
  "language_info": {
   "codemirror_mode": {
    "name": "ipython",
    "version": 3
   },
   "file_extension": ".py",
   "mimetype": "text/x-python",
   "name": "python",
   "nbconvert_exporter": "python",
   "pygments_lexer": "ipython3",
   "version": "3.6.5"
  }
 },
 "nbformat": 4,
 "nbformat_minor": 2
}
