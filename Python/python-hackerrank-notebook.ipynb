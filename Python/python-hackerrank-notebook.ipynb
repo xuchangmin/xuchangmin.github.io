{
 "cells": [
  {
   "cell_type": "markdown",
   "metadata": {},
   "source": [
    "# Hackerrank\n",
    "\n",
    "Solution of the Balanced Brackets Problem"
   ]
  },
  {
   "cell_type": "code",
   "execution_count": null,
   "metadata": {},
   "outputs": [],
   "source": [
    "bool correct = true;\n",
    "stack <char> open;\n",
    "\n",
    "for(int i = 0; i < in.length(), ++i)\n",
    "{\n",
    "    if(in[i] == '(')\n",
    "    {\n",
    "        open.push_back('(');\n",
    "    }\n",
    "    else\n",
    "    {\n",
    "        if(!open.empty())\n",
    "        {\n",
    "            open.pop;\n",
    "        }\n",
    "        else\n",
    "        {\n",
    "            return false;\n",
    "        }\n",
    "\n",
    "    }\n",
    "    if(!open.empty)\n",
    "    {\n",
    "        return false;\n",
    "    }\n",
    "    return true;\n",
    "}\n"
   ]
  }
 ],
 "metadata": {
  "kernelspec": {
   "display_name": "Python 3",
   "language": "python",
   "name": "python3"
  },
  "language_info": {
   "codemirror_mode": {
    "name": "ipython",
    "version": 3
   },
   "file_extension": ".py",
   "mimetype": "text/x-python",
   "name": "python",
   "nbconvert_exporter": "python",
   "pygments_lexer": "ipython3",
   "version": "3.6.5"
  }
 },
 "nbformat": 4,
 "nbformat_minor": 2
}
